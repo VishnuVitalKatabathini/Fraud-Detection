{
  "cells": [
    {
      "cell_type": "markdown",
      "metadata": {
        "id": "view-in-github",
        "colab_type": "text"
      },
      "source": [
        "<a href=\"https://colab.research.google.com/github/VishnuVitalKatabathini/Fraud-Detection/blob/main/Fraud_Detection.ipynb\" target=\"_parent\"><img src=\"https://colab.research.google.com/assets/colab-badge.svg\" alt=\"Open In Colab\"/></a>"
      ]
    },
    {
      "cell_type": "markdown",
      "id": "Co-FoAezf7yV",
      "metadata": {
        "id": "Co-FoAezf7yV"
      },
      "source": [
        "# Fraud Detection\n",
        "\n",
        "#Author: Vishnu vital katabathini\n",
        "#Date: September 27, 2025\n",
        "\n",
        "## 1. Introduction: The Business Problem\n",
        "\n",
        "Mobile money fraud is a significant problem in the financial industry. Fraudulent transactions can lead to substantial financial losses for both customers and the company. The goal of this project is to leverage a large dataset of financial transactions to build a machine learning model capable of detecting fraudulent transactions in real-time.\n",
        "\n",
        "By accurately identifying fraud, we can help the company prevent losses, protect its customers, and maintain trust in its platform.\n",
        "\n",
        "**In this notebook, I will:**\n",
        "1.  Explore and understand the transaction dataset.\n",
        "2.  Perform Exploratory Data Analysis (EDA) to find patterns related to fraud.\n",
        "3.  Select the most relevant features for modeling.\n",
        "4.  Train a RandomForest Classifier to predict fraudulent transactions.\n",
        "5.  Evaluate the model's performance with a focus on metrics that matter for fraud detection.\n",
        "6.  Conclude with insights and suggest potential next steps.\n"
      ]
    },
    {
      "cell_type": "code",
      "execution_count": 1,
      "id": "60b052cd-ce68-4a3b-8c37-3614c4487025",
      "metadata": {
        "id": "60b052cd-ce68-4a3b-8c37-3614c4487025"
      },
      "outputs": [],
      "source": [
        "import pandas as pd\n",
        "import numpy as np\n",
        "import matplotlib.pyplot as plt\n",
        "import seaborn as sns\n",
        "from xgboost import XGBClassifier\n",
        "from sklearn.preprocessing import LabelEncoder\n",
        "from sklearn.ensemble import RandomForestClassifier\n",
        "from sklearn.model_selection import train_test_split,GridSearchCV\n",
        "import sklearn.metrics as metric\n",
        "import joblib\n"
      ]
    },
    {
      "cell_type": "code",
      "execution_count": null,
      "id": "t2hcteb2Xw-g",
      "metadata": {
        "colab": {
          "base_uri": "https://localhost:8080/"
        },
        "id": "t2hcteb2Xw-g",
        "outputId": "80515900-dc26-470b-f062-7c9ebb4df222"
      },
      "outputs": [
        {
          "output_type": "stream",
          "name": "stdout",
          "text": [
            "Mounted at /content/drive\n"
          ]
        }
      ],
      "source": [
        "from google.colab import drive\n",
        "drive.mount('/content/drive')"
      ]
    },
    {
      "cell_type": "markdown",
      "id": "zkIATLK-qrEk",
      "metadata": {
        "id": "zkIATLK-qrEk"
      },
      "source": [
        "here you may encounter the error since the dataset is large as expected, i have uploaded it to my drive folder and used in colab.\n",
        "so to avoid errors please ensure you have upload the dataset to your colab\n"
      ]
    },
    {
      "cell_type": "code",
      "execution_count": 2,
      "id": "0082b304-cf78-4a54-868f-d094a60d4c9b",
      "metadata": {
        "id": "0082b304-cf78-4a54-868f-d094a60d4c9b"
      },
      "outputs": [],
      "source": [
        "data=pd.read_csv(\"/content/drive/MyDrive/Fraud-Detection/data/Fraud.csv\")"
      ]
    },
    {
      "cell_type": "markdown",
      "id": "CMvK6GZeg_xd",
      "metadata": {
        "id": "CMvK6GZeg_xd"
      },
      "source": [
        "## 2. Data Exploration and Understanding\n",
        "\n",
        "First, let's get into the dataset. I'll check its shape, data types, and look for any missing values. This initial check is crucial to ensure data quality before we proceed with analysis."
      ]
    },
    {
      "cell_type": "code",
      "execution_count": null,
      "id": "f3525fe7-9dd3-42f1-8e5e-d57bf879fd2d",
      "metadata": {
        "colab": {
          "base_uri": "https://localhost:8080/"
        },
        "id": "f3525fe7-9dd3-42f1-8e5e-d57bf879fd2d",
        "outputId": "9331358f-fc5f-4338-b1c5-7c222201bc9e"
      },
      "outputs": [
        {
          "output_type": "execute_result",
          "data": {
            "text/plain": [
              "(6362620, 11)"
            ]
          },
          "metadata": {},
          "execution_count": 8
        }
      ],
      "source": [
        "data.shape"
      ]
    },
    {
      "cell_type": "code",
      "execution_count": null,
      "id": "af255e9f-5dcc-436a-afd0-ec0db60a7b80",
      "metadata": {
        "colab": {
          "base_uri": "https://localhost:8080/"
        },
        "id": "af255e9f-5dcc-436a-afd0-ec0db60a7b80",
        "outputId": "4238490e-ad0d-42a6-81a9-64cc14df60a9"
      },
      "outputs": [
        {
          "output_type": "stream",
          "name": "stdout",
          "text": [
            "<class 'pandas.core.frame.DataFrame'>\n",
            "RangeIndex: 6362620 entries, 0 to 6362619\n",
            "Data columns (total 11 columns):\n",
            " #   Column          Dtype  \n",
            "---  ------          -----  \n",
            " 0   step            int64  \n",
            " 1   type            object \n",
            " 2   amount          float64\n",
            " 3   nameOrig        object \n",
            " 4   oldbalanceOrg   float64\n",
            " 5   newbalanceOrig  float64\n",
            " 6   nameDest        object \n",
            " 7   oldbalanceDest  float64\n",
            " 8   newbalanceDest  float64\n",
            " 9   isFraud         int64  \n",
            " 10  isFlaggedFraud  int64  \n",
            "dtypes: float64(5), int64(3), object(3)\n",
            "memory usage: 534.0+ MB\n"
          ]
        }
      ],
      "source": [
        "data.info() #checking the total features and the feature are in correct datatype  and also checking the nullvalues if any"
      ]
    },
    {
      "cell_type": "code",
      "execution_count": null,
      "id": "aade383c-c8dd-4647-b773-a0e0bc395ae2",
      "metadata": {
        "colab": {
          "base_uri": "https://localhost:8080/",
          "height": 206
        },
        "id": "aade383c-c8dd-4647-b773-a0e0bc395ae2",
        "outputId": "25b03ec0-18b7-4909-e970-31748255e00d"
      },
      "outputs": [
        {
          "output_type": "execute_result",
          "data": {
            "text/plain": [
              "   step      type    amount     nameOrig  oldbalanceOrg  newbalanceOrig  \\\n",
              "0     1   PAYMENT   9839.64  C1231006815       170136.0       160296.36   \n",
              "1     1   PAYMENT   1864.28  C1666544295        21249.0        19384.72   \n",
              "2     1  TRANSFER    181.00  C1305486145          181.0            0.00   \n",
              "3     1  CASH_OUT    181.00   C840083671          181.0            0.00   \n",
              "4     1   PAYMENT  11668.14  C2048537720        41554.0        29885.86   \n",
              "\n",
              "      nameDest  oldbalanceDest  newbalanceDest  isFraud  isFlaggedFraud  \n",
              "0  M1979787155             0.0             0.0        0               0  \n",
              "1  M2044282225             0.0             0.0        0               0  \n",
              "2   C553264065             0.0             0.0        1               0  \n",
              "3    C38997010         21182.0             0.0        1               0  \n",
              "4  M1230701703             0.0             0.0        0               0  "
            ],
            "text/html": [
              "\n",
              "  <div id=\"df-1301f4dc-a58b-42b5-8492-8516074f6966\" class=\"colab-df-container\">\n",
              "    <div>\n",
              "<style scoped>\n",
              "    .dataframe tbody tr th:only-of-type {\n",
              "        vertical-align: middle;\n",
              "    }\n",
              "\n",
              "    .dataframe tbody tr th {\n",
              "        vertical-align: top;\n",
              "    }\n",
              "\n",
              "    .dataframe thead th {\n",
              "        text-align: right;\n",
              "    }\n",
              "</style>\n",
              "<table border=\"1\" class=\"dataframe\">\n",
              "  <thead>\n",
              "    <tr style=\"text-align: right;\">\n",
              "      <th></th>\n",
              "      <th>step</th>\n",
              "      <th>type</th>\n",
              "      <th>amount</th>\n",
              "      <th>nameOrig</th>\n",
              "      <th>oldbalanceOrg</th>\n",
              "      <th>newbalanceOrig</th>\n",
              "      <th>nameDest</th>\n",
              "      <th>oldbalanceDest</th>\n",
              "      <th>newbalanceDest</th>\n",
              "      <th>isFraud</th>\n",
              "      <th>isFlaggedFraud</th>\n",
              "    </tr>\n",
              "  </thead>\n",
              "  <tbody>\n",
              "    <tr>\n",
              "      <th>0</th>\n",
              "      <td>1</td>\n",
              "      <td>PAYMENT</td>\n",
              "      <td>9839.64</td>\n",
              "      <td>C1231006815</td>\n",
              "      <td>170136.0</td>\n",
              "      <td>160296.36</td>\n",
              "      <td>M1979787155</td>\n",
              "      <td>0.0</td>\n",
              "      <td>0.0</td>\n",
              "      <td>0</td>\n",
              "      <td>0</td>\n",
              "    </tr>\n",
              "    <tr>\n",
              "      <th>1</th>\n",
              "      <td>1</td>\n",
              "      <td>PAYMENT</td>\n",
              "      <td>1864.28</td>\n",
              "      <td>C1666544295</td>\n",
              "      <td>21249.0</td>\n",
              "      <td>19384.72</td>\n",
              "      <td>M2044282225</td>\n",
              "      <td>0.0</td>\n",
              "      <td>0.0</td>\n",
              "      <td>0</td>\n",
              "      <td>0</td>\n",
              "    </tr>\n",
              "    <tr>\n",
              "      <th>2</th>\n",
              "      <td>1</td>\n",
              "      <td>TRANSFER</td>\n",
              "      <td>181.00</td>\n",
              "      <td>C1305486145</td>\n",
              "      <td>181.0</td>\n",
              "      <td>0.00</td>\n",
              "      <td>C553264065</td>\n",
              "      <td>0.0</td>\n",
              "      <td>0.0</td>\n",
              "      <td>1</td>\n",
              "      <td>0</td>\n",
              "    </tr>\n",
              "    <tr>\n",
              "      <th>3</th>\n",
              "      <td>1</td>\n",
              "      <td>CASH_OUT</td>\n",
              "      <td>181.00</td>\n",
              "      <td>C840083671</td>\n",
              "      <td>181.0</td>\n",
              "      <td>0.00</td>\n",
              "      <td>C38997010</td>\n",
              "      <td>21182.0</td>\n",
              "      <td>0.0</td>\n",
              "      <td>1</td>\n",
              "      <td>0</td>\n",
              "    </tr>\n",
              "    <tr>\n",
              "      <th>4</th>\n",
              "      <td>1</td>\n",
              "      <td>PAYMENT</td>\n",
              "      <td>11668.14</td>\n",
              "      <td>C2048537720</td>\n",
              "      <td>41554.0</td>\n",
              "      <td>29885.86</td>\n",
              "      <td>M1230701703</td>\n",
              "      <td>0.0</td>\n",
              "      <td>0.0</td>\n",
              "      <td>0</td>\n",
              "      <td>0</td>\n",
              "    </tr>\n",
              "  </tbody>\n",
              "</table>\n",
              "</div>\n",
              "    <div class=\"colab-df-buttons\">\n",
              "\n",
              "  <div class=\"colab-df-container\">\n",
              "    <button class=\"colab-df-convert\" onclick=\"convertToInteractive('df-1301f4dc-a58b-42b5-8492-8516074f6966')\"\n",
              "            title=\"Convert this dataframe to an interactive table.\"\n",
              "            style=\"display:none;\">\n",
              "\n",
              "  <svg xmlns=\"http://www.w3.org/2000/svg\" height=\"24px\" viewBox=\"0 -960 960 960\">\n",
              "    <path d=\"M120-120v-720h720v720H120Zm60-500h600v-160H180v160Zm220 220h160v-160H400v160Zm0 220h160v-160H400v160ZM180-400h160v-160H180v160Zm440 0h160v-160H620v160ZM180-180h160v-160H180v160Zm440 0h160v-160H620v160Z\"/>\n",
              "  </svg>\n",
              "    </button>\n",
              "\n",
              "  <style>\n",
              "    .colab-df-container {\n",
              "      display:flex;\n",
              "      gap: 12px;\n",
              "    }\n",
              "\n",
              "    .colab-df-convert {\n",
              "      background-color: #E8F0FE;\n",
              "      border: none;\n",
              "      border-radius: 50%;\n",
              "      cursor: pointer;\n",
              "      display: none;\n",
              "      fill: #1967D2;\n",
              "      height: 32px;\n",
              "      padding: 0 0 0 0;\n",
              "      width: 32px;\n",
              "    }\n",
              "\n",
              "    .colab-df-convert:hover {\n",
              "      background-color: #E2EBFA;\n",
              "      box-shadow: 0px 1px 2px rgba(60, 64, 67, 0.3), 0px 1px 3px 1px rgba(60, 64, 67, 0.15);\n",
              "      fill: #174EA6;\n",
              "    }\n",
              "\n",
              "    .colab-df-buttons div {\n",
              "      margin-bottom: 4px;\n",
              "    }\n",
              "\n",
              "    [theme=dark] .colab-df-convert {\n",
              "      background-color: #3B4455;\n",
              "      fill: #D2E3FC;\n",
              "    }\n",
              "\n",
              "    [theme=dark] .colab-df-convert:hover {\n",
              "      background-color: #434B5C;\n",
              "      box-shadow: 0px 1px 3px 1px rgba(0, 0, 0, 0.15);\n",
              "      filter: drop-shadow(0px 1px 2px rgba(0, 0, 0, 0.3));\n",
              "      fill: #FFFFFF;\n",
              "    }\n",
              "  </style>\n",
              "\n",
              "    <script>\n",
              "      const buttonEl =\n",
              "        document.querySelector('#df-1301f4dc-a58b-42b5-8492-8516074f6966 button.colab-df-convert');\n",
              "      buttonEl.style.display =\n",
              "        google.colab.kernel.accessAllowed ? 'block' : 'none';\n",
              "\n",
              "      async function convertToInteractive(key) {\n",
              "        const element = document.querySelector('#df-1301f4dc-a58b-42b5-8492-8516074f6966');\n",
              "        const dataTable =\n",
              "          await google.colab.kernel.invokeFunction('convertToInteractive',\n",
              "                                                    [key], {});\n",
              "        if (!dataTable) return;\n",
              "\n",
              "        const docLinkHtml = 'Like what you see? Visit the ' +\n",
              "          '<a target=\"_blank\" href=https://colab.research.google.com/notebooks/data_table.ipynb>data table notebook</a>'\n",
              "          + ' to learn more about interactive tables.';\n",
              "        element.innerHTML = '';\n",
              "        dataTable['output_type'] = 'display_data';\n",
              "        await google.colab.output.renderOutput(dataTable, element);\n",
              "        const docLink = document.createElement('div');\n",
              "        docLink.innerHTML = docLinkHtml;\n",
              "        element.appendChild(docLink);\n",
              "      }\n",
              "    </script>\n",
              "  </div>\n",
              "\n",
              "\n",
              "    <div id=\"df-da4dc918-334f-4a1b-bfec-5a9f4f526058\">\n",
              "      <button class=\"colab-df-quickchart\" onclick=\"quickchart('df-da4dc918-334f-4a1b-bfec-5a9f4f526058')\"\n",
              "                title=\"Suggest charts\"\n",
              "                style=\"display:none;\">\n",
              "\n",
              "<svg xmlns=\"http://www.w3.org/2000/svg\" height=\"24px\"viewBox=\"0 0 24 24\"\n",
              "     width=\"24px\">\n",
              "    <g>\n",
              "        <path d=\"M19 3H5c-1.1 0-2 .9-2 2v14c0 1.1.9 2 2 2h14c1.1 0 2-.9 2-2V5c0-1.1-.9-2-2-2zM9 17H7v-7h2v7zm4 0h-2V7h2v10zm4 0h-2v-4h2v4z\"/>\n",
              "    </g>\n",
              "</svg>\n",
              "      </button>\n",
              "\n",
              "<style>\n",
              "  .colab-df-quickchart {\n",
              "      --bg-color: #E8F0FE;\n",
              "      --fill-color: #1967D2;\n",
              "      --hover-bg-color: #E2EBFA;\n",
              "      --hover-fill-color: #174EA6;\n",
              "      --disabled-fill-color: #AAA;\n",
              "      --disabled-bg-color: #DDD;\n",
              "  }\n",
              "\n",
              "  [theme=dark] .colab-df-quickchart {\n",
              "      --bg-color: #3B4455;\n",
              "      --fill-color: #D2E3FC;\n",
              "      --hover-bg-color: #434B5C;\n",
              "      --hover-fill-color: #FFFFFF;\n",
              "      --disabled-bg-color: #3B4455;\n",
              "      --disabled-fill-color: #666;\n",
              "  }\n",
              "\n",
              "  .colab-df-quickchart {\n",
              "    background-color: var(--bg-color);\n",
              "    border: none;\n",
              "    border-radius: 50%;\n",
              "    cursor: pointer;\n",
              "    display: none;\n",
              "    fill: var(--fill-color);\n",
              "    height: 32px;\n",
              "    padding: 0;\n",
              "    width: 32px;\n",
              "  }\n",
              "\n",
              "  .colab-df-quickchart:hover {\n",
              "    background-color: var(--hover-bg-color);\n",
              "    box-shadow: 0 1px 2px rgba(60, 64, 67, 0.3), 0 1px 3px 1px rgba(60, 64, 67, 0.15);\n",
              "    fill: var(--button-hover-fill-color);\n",
              "  }\n",
              "\n",
              "  .colab-df-quickchart-complete:disabled,\n",
              "  .colab-df-quickchart-complete:disabled:hover {\n",
              "    background-color: var(--disabled-bg-color);\n",
              "    fill: var(--disabled-fill-color);\n",
              "    box-shadow: none;\n",
              "  }\n",
              "\n",
              "  .colab-df-spinner {\n",
              "    border: 2px solid var(--fill-color);\n",
              "    border-color: transparent;\n",
              "    border-bottom-color: var(--fill-color);\n",
              "    animation:\n",
              "      spin 1s steps(1) infinite;\n",
              "  }\n",
              "\n",
              "  @keyframes spin {\n",
              "    0% {\n",
              "      border-color: transparent;\n",
              "      border-bottom-color: var(--fill-color);\n",
              "      border-left-color: var(--fill-color);\n",
              "    }\n",
              "    20% {\n",
              "      border-color: transparent;\n",
              "      border-left-color: var(--fill-color);\n",
              "      border-top-color: var(--fill-color);\n",
              "    }\n",
              "    30% {\n",
              "      border-color: transparent;\n",
              "      border-left-color: var(--fill-color);\n",
              "      border-top-color: var(--fill-color);\n",
              "      border-right-color: var(--fill-color);\n",
              "    }\n",
              "    40% {\n",
              "      border-color: transparent;\n",
              "      border-right-color: var(--fill-color);\n",
              "      border-top-color: var(--fill-color);\n",
              "    }\n",
              "    60% {\n",
              "      border-color: transparent;\n",
              "      border-right-color: var(--fill-color);\n",
              "    }\n",
              "    80% {\n",
              "      border-color: transparent;\n",
              "      border-right-color: var(--fill-color);\n",
              "      border-bottom-color: var(--fill-color);\n",
              "    }\n",
              "    90% {\n",
              "      border-color: transparent;\n",
              "      border-bottom-color: var(--fill-color);\n",
              "    }\n",
              "  }\n",
              "</style>\n",
              "\n",
              "      <script>\n",
              "        async function quickchart(key) {\n",
              "          const quickchartButtonEl =\n",
              "            document.querySelector('#' + key + ' button');\n",
              "          quickchartButtonEl.disabled = true;  // To prevent multiple clicks.\n",
              "          quickchartButtonEl.classList.add('colab-df-spinner');\n",
              "          try {\n",
              "            const charts = await google.colab.kernel.invokeFunction(\n",
              "                'suggestCharts', [key], {});\n",
              "          } catch (error) {\n",
              "            console.error('Error during call to suggestCharts:', error);\n",
              "          }\n",
              "          quickchartButtonEl.classList.remove('colab-df-spinner');\n",
              "          quickchartButtonEl.classList.add('colab-df-quickchart-complete');\n",
              "        }\n",
              "        (() => {\n",
              "          let quickchartButtonEl =\n",
              "            document.querySelector('#df-da4dc918-334f-4a1b-bfec-5a9f4f526058 button');\n",
              "          quickchartButtonEl.style.display =\n",
              "            google.colab.kernel.accessAllowed ? 'block' : 'none';\n",
              "        })();\n",
              "      </script>\n",
              "    </div>\n",
              "\n",
              "    </div>\n",
              "  </div>\n"
            ],
            "application/vnd.google.colaboratory.intrinsic+json": {
              "type": "dataframe",
              "variable_name": "data"
            }
          },
          "metadata": {},
          "execution_count": 10
        }
      ],
      "source": [
        "data.head()"
      ]
    },
    {
      "cell_type": "markdown",
      "id": "FoILHSkGhTgc",
      "metadata": {
        "id": "FoILHSkGhTgc"
      },
      "source": [
        "### Initial Findings:\n",
        "* The dataset is massive, containing over **6.3 million transactions**.\n",
        "* We have 11 columns, including transaction details and our target variable, `isFraud`.\n",
        "* **No missing values**; There are no missing or null values in the dataset, which simplifies our preprocessing steps.\n",
        "* The `type`, `nameOrig`, and `nameDest` columns are of type `object` (text) and will need to be handled if we decide to use them in the model."
      ]
    },
    {
      "cell_type": "markdown",
      "id": "haucYbbvhpx1",
      "metadata": {
        "id": "haucYbbvhpx1"
      },
      "source": [
        "## 3. Exploratory Data Analysis (EDA)\n",
        "\n",
        "Now, let's dig deeper to find patterns related to fraud. The most important questions to answer are:\n",
        "1.  How balanced is our dataset? Is fraud a rare event?\n",
        "2.  Which types of transactions are most associated with fraud?"
      ]
    },
    {
      "cell_type": "code",
      "execution_count": null,
      "id": "fc1a11eb-ac02-4a57-bbeb-49fe2928195e",
      "metadata": {
        "colab": {
          "base_uri": "https://localhost:8080/",
          "height": 300
        },
        "id": "fc1a11eb-ac02-4a57-bbeb-49fe2928195e",
        "outputId": "ad1a31c4-b99c-45d4-8bff-0039e7dfbe69"
      },
      "outputs": [
        {
          "output_type": "execute_result",
          "data": {
            "text/plain": [
              "               step        amount  oldbalanceOrg  newbalanceOrig  \\\n",
              "count  6.362620e+06  6.362620e+06   6.362620e+06    6.362620e+06   \n",
              "mean   2.433972e+02  1.798619e+05   8.338831e+05    8.551137e+05   \n",
              "std    1.423320e+02  6.038582e+05   2.888243e+06    2.924049e+06   \n",
              "min    1.000000e+00  0.000000e+00   0.000000e+00    0.000000e+00   \n",
              "25%    1.560000e+02  1.338957e+04   0.000000e+00    0.000000e+00   \n",
              "50%    2.390000e+02  7.487194e+04   1.420800e+04    0.000000e+00   \n",
              "75%    3.350000e+02  2.087215e+05   1.073152e+05    1.442584e+05   \n",
              "max    7.430000e+02  9.244552e+07   5.958504e+07    4.958504e+07   \n",
              "\n",
              "       oldbalanceDest  newbalanceDest       isFraud  isFlaggedFraud  \n",
              "count    6.362620e+06    6.362620e+06  6.362620e+06    6.362620e+06  \n",
              "mean     1.100702e+06    1.224996e+06  1.290820e-03    2.514687e-06  \n",
              "std      3.399180e+06    3.674129e+06  3.590480e-02    1.585775e-03  \n",
              "min      0.000000e+00    0.000000e+00  0.000000e+00    0.000000e+00  \n",
              "25%      0.000000e+00    0.000000e+00  0.000000e+00    0.000000e+00  \n",
              "50%      1.327057e+05    2.146614e+05  0.000000e+00    0.000000e+00  \n",
              "75%      9.430367e+05    1.111909e+06  0.000000e+00    0.000000e+00  \n",
              "max      3.560159e+08    3.561793e+08  1.000000e+00    1.000000e+00  "
            ],
            "text/html": [
              "\n",
              "  <div id=\"df-e9536b47-a870-4df2-84c4-2372461621a9\" class=\"colab-df-container\">\n",
              "    <div>\n",
              "<style scoped>\n",
              "    .dataframe tbody tr th:only-of-type {\n",
              "        vertical-align: middle;\n",
              "    }\n",
              "\n",
              "    .dataframe tbody tr th {\n",
              "        vertical-align: top;\n",
              "    }\n",
              "\n",
              "    .dataframe thead th {\n",
              "        text-align: right;\n",
              "    }\n",
              "</style>\n",
              "<table border=\"1\" class=\"dataframe\">\n",
              "  <thead>\n",
              "    <tr style=\"text-align: right;\">\n",
              "      <th></th>\n",
              "      <th>step</th>\n",
              "      <th>amount</th>\n",
              "      <th>oldbalanceOrg</th>\n",
              "      <th>newbalanceOrig</th>\n",
              "      <th>oldbalanceDest</th>\n",
              "      <th>newbalanceDest</th>\n",
              "      <th>isFraud</th>\n",
              "      <th>isFlaggedFraud</th>\n",
              "    </tr>\n",
              "  </thead>\n",
              "  <tbody>\n",
              "    <tr>\n",
              "      <th>count</th>\n",
              "      <td>6.362620e+06</td>\n",
              "      <td>6.362620e+06</td>\n",
              "      <td>6.362620e+06</td>\n",
              "      <td>6.362620e+06</td>\n",
              "      <td>6.362620e+06</td>\n",
              "      <td>6.362620e+06</td>\n",
              "      <td>6.362620e+06</td>\n",
              "      <td>6.362620e+06</td>\n",
              "    </tr>\n",
              "    <tr>\n",
              "      <th>mean</th>\n",
              "      <td>2.433972e+02</td>\n",
              "      <td>1.798619e+05</td>\n",
              "      <td>8.338831e+05</td>\n",
              "      <td>8.551137e+05</td>\n",
              "      <td>1.100702e+06</td>\n",
              "      <td>1.224996e+06</td>\n",
              "      <td>1.290820e-03</td>\n",
              "      <td>2.514687e-06</td>\n",
              "    </tr>\n",
              "    <tr>\n",
              "      <th>std</th>\n",
              "      <td>1.423320e+02</td>\n",
              "      <td>6.038582e+05</td>\n",
              "      <td>2.888243e+06</td>\n",
              "      <td>2.924049e+06</td>\n",
              "      <td>3.399180e+06</td>\n",
              "      <td>3.674129e+06</td>\n",
              "      <td>3.590480e-02</td>\n",
              "      <td>1.585775e-03</td>\n",
              "    </tr>\n",
              "    <tr>\n",
              "      <th>min</th>\n",
              "      <td>1.000000e+00</td>\n",
              "      <td>0.000000e+00</td>\n",
              "      <td>0.000000e+00</td>\n",
              "      <td>0.000000e+00</td>\n",
              "      <td>0.000000e+00</td>\n",
              "      <td>0.000000e+00</td>\n",
              "      <td>0.000000e+00</td>\n",
              "      <td>0.000000e+00</td>\n",
              "    </tr>\n",
              "    <tr>\n",
              "      <th>25%</th>\n",
              "      <td>1.560000e+02</td>\n",
              "      <td>1.338957e+04</td>\n",
              "      <td>0.000000e+00</td>\n",
              "      <td>0.000000e+00</td>\n",
              "      <td>0.000000e+00</td>\n",
              "      <td>0.000000e+00</td>\n",
              "      <td>0.000000e+00</td>\n",
              "      <td>0.000000e+00</td>\n",
              "    </tr>\n",
              "    <tr>\n",
              "      <th>50%</th>\n",
              "      <td>2.390000e+02</td>\n",
              "      <td>7.487194e+04</td>\n",
              "      <td>1.420800e+04</td>\n",
              "      <td>0.000000e+00</td>\n",
              "      <td>1.327057e+05</td>\n",
              "      <td>2.146614e+05</td>\n",
              "      <td>0.000000e+00</td>\n",
              "      <td>0.000000e+00</td>\n",
              "    </tr>\n",
              "    <tr>\n",
              "      <th>75%</th>\n",
              "      <td>3.350000e+02</td>\n",
              "      <td>2.087215e+05</td>\n",
              "      <td>1.073152e+05</td>\n",
              "      <td>1.442584e+05</td>\n",
              "      <td>9.430367e+05</td>\n",
              "      <td>1.111909e+06</td>\n",
              "      <td>0.000000e+00</td>\n",
              "      <td>0.000000e+00</td>\n",
              "    </tr>\n",
              "    <tr>\n",
              "      <th>max</th>\n",
              "      <td>7.430000e+02</td>\n",
              "      <td>9.244552e+07</td>\n",
              "      <td>5.958504e+07</td>\n",
              "      <td>4.958504e+07</td>\n",
              "      <td>3.560159e+08</td>\n",
              "      <td>3.561793e+08</td>\n",
              "      <td>1.000000e+00</td>\n",
              "      <td>1.000000e+00</td>\n",
              "    </tr>\n",
              "  </tbody>\n",
              "</table>\n",
              "</div>\n",
              "    <div class=\"colab-df-buttons\">\n",
              "\n",
              "  <div class=\"colab-df-container\">\n",
              "    <button class=\"colab-df-convert\" onclick=\"convertToInteractive('df-e9536b47-a870-4df2-84c4-2372461621a9')\"\n",
              "            title=\"Convert this dataframe to an interactive table.\"\n",
              "            style=\"display:none;\">\n",
              "\n",
              "  <svg xmlns=\"http://www.w3.org/2000/svg\" height=\"24px\" viewBox=\"0 -960 960 960\">\n",
              "    <path d=\"M120-120v-720h720v720H120Zm60-500h600v-160H180v160Zm220 220h160v-160H400v160Zm0 220h160v-160H400v160ZM180-400h160v-160H180v160Zm440 0h160v-160H620v160ZM180-180h160v-160H180v160Zm440 0h160v-160H620v160Z\"/>\n",
              "  </svg>\n",
              "    </button>\n",
              "\n",
              "  <style>\n",
              "    .colab-df-container {\n",
              "      display:flex;\n",
              "      gap: 12px;\n",
              "    }\n",
              "\n",
              "    .colab-df-convert {\n",
              "      background-color: #E8F0FE;\n",
              "      border: none;\n",
              "      border-radius: 50%;\n",
              "      cursor: pointer;\n",
              "      display: none;\n",
              "      fill: #1967D2;\n",
              "      height: 32px;\n",
              "      padding: 0 0 0 0;\n",
              "      width: 32px;\n",
              "    }\n",
              "\n",
              "    .colab-df-convert:hover {\n",
              "      background-color: #E2EBFA;\n",
              "      box-shadow: 0px 1px 2px rgba(60, 64, 67, 0.3), 0px 1px 3px 1px rgba(60, 64, 67, 0.15);\n",
              "      fill: #174EA6;\n",
              "    }\n",
              "\n",
              "    .colab-df-buttons div {\n",
              "      margin-bottom: 4px;\n",
              "    }\n",
              "\n",
              "    [theme=dark] .colab-df-convert {\n",
              "      background-color: #3B4455;\n",
              "      fill: #D2E3FC;\n",
              "    }\n",
              "\n",
              "    [theme=dark] .colab-df-convert:hover {\n",
              "      background-color: #434B5C;\n",
              "      box-shadow: 0px 1px 3px 1px rgba(0, 0, 0, 0.15);\n",
              "      filter: drop-shadow(0px 1px 2px rgba(0, 0, 0, 0.3));\n",
              "      fill: #FFFFFF;\n",
              "    }\n",
              "  </style>\n",
              "\n",
              "    <script>\n",
              "      const buttonEl =\n",
              "        document.querySelector('#df-e9536b47-a870-4df2-84c4-2372461621a9 button.colab-df-convert');\n",
              "      buttonEl.style.display =\n",
              "        google.colab.kernel.accessAllowed ? 'block' : 'none';\n",
              "\n",
              "      async function convertToInteractive(key) {\n",
              "        const element = document.querySelector('#df-e9536b47-a870-4df2-84c4-2372461621a9');\n",
              "        const dataTable =\n",
              "          await google.colab.kernel.invokeFunction('convertToInteractive',\n",
              "                                                    [key], {});\n",
              "        if (!dataTable) return;\n",
              "\n",
              "        const docLinkHtml = 'Like what you see? Visit the ' +\n",
              "          '<a target=\"_blank\" href=https://colab.research.google.com/notebooks/data_table.ipynb>data table notebook</a>'\n",
              "          + ' to learn more about interactive tables.';\n",
              "        element.innerHTML = '';\n",
              "        dataTable['output_type'] = 'display_data';\n",
              "        await google.colab.output.renderOutput(dataTable, element);\n",
              "        const docLink = document.createElement('div');\n",
              "        docLink.innerHTML = docLinkHtml;\n",
              "        element.appendChild(docLink);\n",
              "      }\n",
              "    </script>\n",
              "  </div>\n",
              "\n",
              "\n",
              "    <div id=\"df-bf09774c-3503-4bc6-8e9d-b0085d0377ce\">\n",
              "      <button class=\"colab-df-quickchart\" onclick=\"quickchart('df-bf09774c-3503-4bc6-8e9d-b0085d0377ce')\"\n",
              "                title=\"Suggest charts\"\n",
              "                style=\"display:none;\">\n",
              "\n",
              "<svg xmlns=\"http://www.w3.org/2000/svg\" height=\"24px\"viewBox=\"0 0 24 24\"\n",
              "     width=\"24px\">\n",
              "    <g>\n",
              "        <path d=\"M19 3H5c-1.1 0-2 .9-2 2v14c0 1.1.9 2 2 2h14c1.1 0 2-.9 2-2V5c0-1.1-.9-2-2-2zM9 17H7v-7h2v7zm4 0h-2V7h2v10zm4 0h-2v-4h2v4z\"/>\n",
              "    </g>\n",
              "</svg>\n",
              "      </button>\n",
              "\n",
              "<style>\n",
              "  .colab-df-quickchart {\n",
              "      --bg-color: #E8F0FE;\n",
              "      --fill-color: #1967D2;\n",
              "      --hover-bg-color: #E2EBFA;\n",
              "      --hover-fill-color: #174EA6;\n",
              "      --disabled-fill-color: #AAA;\n",
              "      --disabled-bg-color: #DDD;\n",
              "  }\n",
              "\n",
              "  [theme=dark] .colab-df-quickchart {\n",
              "      --bg-color: #3B4455;\n",
              "      --fill-color: #D2E3FC;\n",
              "      --hover-bg-color: #434B5C;\n",
              "      --hover-fill-color: #FFFFFF;\n",
              "      --disabled-bg-color: #3B4455;\n",
              "      --disabled-fill-color: #666;\n",
              "  }\n",
              "\n",
              "  .colab-df-quickchart {\n",
              "    background-color: var(--bg-color);\n",
              "    border: none;\n",
              "    border-radius: 50%;\n",
              "    cursor: pointer;\n",
              "    display: none;\n",
              "    fill: var(--fill-color);\n",
              "    height: 32px;\n",
              "    padding: 0;\n",
              "    width: 32px;\n",
              "  }\n",
              "\n",
              "  .colab-df-quickchart:hover {\n",
              "    background-color: var(--hover-bg-color);\n",
              "    box-shadow: 0 1px 2px rgba(60, 64, 67, 0.3), 0 1px 3px 1px rgba(60, 64, 67, 0.15);\n",
              "    fill: var(--button-hover-fill-color);\n",
              "  }\n",
              "\n",
              "  .colab-df-quickchart-complete:disabled,\n",
              "  .colab-df-quickchart-complete:disabled:hover {\n",
              "    background-color: var(--disabled-bg-color);\n",
              "    fill: var(--disabled-fill-color);\n",
              "    box-shadow: none;\n",
              "  }\n",
              "\n",
              "  .colab-df-spinner {\n",
              "    border: 2px solid var(--fill-color);\n",
              "    border-color: transparent;\n",
              "    border-bottom-color: var(--fill-color);\n",
              "    animation:\n",
              "      spin 1s steps(1) infinite;\n",
              "  }\n",
              "\n",
              "  @keyframes spin {\n",
              "    0% {\n",
              "      border-color: transparent;\n",
              "      border-bottom-color: var(--fill-color);\n",
              "      border-left-color: var(--fill-color);\n",
              "    }\n",
              "    20% {\n",
              "      border-color: transparent;\n",
              "      border-left-color: var(--fill-color);\n",
              "      border-top-color: var(--fill-color);\n",
              "    }\n",
              "    30% {\n",
              "      border-color: transparent;\n",
              "      border-left-color: var(--fill-color);\n",
              "      border-top-color: var(--fill-color);\n",
              "      border-right-color: var(--fill-color);\n",
              "    }\n",
              "    40% {\n",
              "      border-color: transparent;\n",
              "      border-right-color: var(--fill-color);\n",
              "      border-top-color: var(--fill-color);\n",
              "    }\n",
              "    60% {\n",
              "      border-color: transparent;\n",
              "      border-right-color: var(--fill-color);\n",
              "    }\n",
              "    80% {\n",
              "      border-color: transparent;\n",
              "      border-right-color: var(--fill-color);\n",
              "      border-bottom-color: var(--fill-color);\n",
              "    }\n",
              "    90% {\n",
              "      border-color: transparent;\n",
              "      border-bottom-color: var(--fill-color);\n",
              "    }\n",
              "  }\n",
              "</style>\n",
              "\n",
              "      <script>\n",
              "        async function quickchart(key) {\n",
              "          const quickchartButtonEl =\n",
              "            document.querySelector('#' + key + ' button');\n",
              "          quickchartButtonEl.disabled = true;  // To prevent multiple clicks.\n",
              "          quickchartButtonEl.classList.add('colab-df-spinner');\n",
              "          try {\n",
              "            const charts = await google.colab.kernel.invokeFunction(\n",
              "                'suggestCharts', [key], {});\n",
              "          } catch (error) {\n",
              "            console.error('Error during call to suggestCharts:', error);\n",
              "          }\n",
              "          quickchartButtonEl.classList.remove('colab-df-spinner');\n",
              "          quickchartButtonEl.classList.add('colab-df-quickchart-complete');\n",
              "        }\n",
              "        (() => {\n",
              "          let quickchartButtonEl =\n",
              "            document.querySelector('#df-bf09774c-3503-4bc6-8e9d-b0085d0377ce button');\n",
              "          quickchartButtonEl.style.display =\n",
              "            google.colab.kernel.accessAllowed ? 'block' : 'none';\n",
              "        })();\n",
              "      </script>\n",
              "    </div>\n",
              "\n",
              "    </div>\n",
              "  </div>\n"
            ],
            "application/vnd.google.colaboratory.intrinsic+json": {
              "type": "dataframe",
              "summary": "{\n  \"name\": \"data\",\n  \"rows\": 8,\n  \"fields\": [\n    {\n      \"column\": \"step\",\n      \"properties\": {\n        \"dtype\": \"number\",\n        \"std\": 2249431.9540618425,\n        \"min\": 1.0,\n        \"max\": 6362620.0,\n        \"num_unique_values\": 8,\n        \"samples\": [\n          243.39724563151657,\n          239.0,\n          6362620.0\n        ],\n        \"semantic_type\": \"\",\n        \"description\": \"\"\n      }\n    },\n    {\n      \"column\": \"amount\",\n      \"properties\": {\n        \"dtype\": \"number\",\n        \"std\": 32381388.583731953,\n        \"min\": 0.0,\n        \"max\": 92445516.64,\n        \"num_unique_values\": 8,\n        \"samples\": [\n          179861.90354913071,\n          74871.94,\n          6362620.0\n        ],\n        \"semantic_type\": \"\",\n        \"description\": \"\"\n      }\n    },\n    {\n      \"column\": \"oldbalanceOrg\",\n      \"properties\": {\n        \"dtype\": \"number\",\n        \"std\": 20671082.75977792,\n        \"min\": 0.0,\n        \"max\": 59585040.37,\n        \"num_unique_values\": 7,\n        \"samples\": [\n          6362620.0,\n          833883.1040744866,\n          107315.175\n        ],\n        \"semantic_type\": \"\",\n        \"description\": \"\"\n      }\n    },\n    {\n      \"column\": \"newbalanceOrig\",\n      \"properties\": {\n        \"dtype\": \"number\",\n        \"std\": 17156393.89138026,\n        \"min\": 0.0,\n        \"max\": 49585040.37,\n        \"num_unique_values\": 6,\n        \"samples\": [\n          6362620.0,\n          855113.6685785869,\n          49585040.37\n        ],\n        \"semantic_type\": \"\",\n        \"description\": \"\"\n      }\n    },\n    {\n      \"column\": \"oldbalanceDest\",\n      \"properties\": {\n        \"dtype\": \"number\",\n        \"std\": 125286921.4223383,\n        \"min\": 0.0,\n        \"max\": 356015889.35,\n        \"num_unique_values\": 7,\n        \"samples\": [\n          6362620.0,\n          1100701.6665196486,\n          943036.7075\n        ],\n        \"semantic_type\": \"\",\n        \"description\": \"\"\n      }\n    },\n    {\n      \"column\": \"newbalanceDest\",\n      \"properties\": {\n        \"dtype\": \"number\",\n        \"std\": 125312039.97617318,\n        \"min\": 0.0,\n        \"max\": 356179278.92,\n        \"num_unique_values\": 7,\n        \"samples\": [\n          6362620.0,\n          1224996.3982019299,\n          1111909.25\n        ],\n        \"semantic_type\": \"\",\n        \"description\": \"\"\n      }\n    },\n    {\n      \"column\": \"isFraud\",\n      \"properties\": {\n        \"dtype\": \"number\",\n        \"std\": 2249525.821670313,\n        \"min\": 0.0,\n        \"max\": 6362620.0,\n        \"num_unique_values\": 5,\n        \"samples\": [\n          0.001290820448180152,\n          1.0,\n          0.03590479680110214\n        ],\n        \"semantic_type\": \"\",\n        \"description\": \"\"\n      }\n    },\n    {\n      \"column\": \"isFlaggedFraud\",\n      \"properties\": {\n        \"dtype\": \"number\",\n        \"std\": 2249525.8234687545,\n        \"min\": 0.0,\n        \"max\": 6362620.0,\n        \"num_unique_values\": 5,\n        \"samples\": [\n          2.51468734577894e-06,\n          1.0,\n          0.0015857747057628966\n        ],\n        \"semantic_type\": \"\",\n        \"description\": \"\"\n      }\n    }\n  ]\n}"
            }
          },
          "metadata": {},
          "execution_count": 11
        }
      ],
      "source": [
        "data.describe()"
      ]
    },
    {
      "cell_type": "code",
      "execution_count": null,
      "id": "G1PKymBXh2Sd",
      "metadata": {
        "colab": {
          "base_uri": "https://localhost:8080/",
          "height": 633
        },
        "id": "G1PKymBXh2Sd",
        "outputId": "ba9f2e8c-b756-42f7-a24a-29f66a3e3c70"
      },
      "outputs": [
        {
          "output_type": "stream",
          "name": "stdout",
          "text": [
            "isFraud\n",
            "0    6354407\n",
            "1       8213\n",
            "Name: count, dtype: int64\n"
          ]
        },
        {
          "output_type": "display_data",
          "data": {
            "text/plain": [
              "<Figure size 800x600 with 1 Axes>"
            ],
            "image/png": "[encoded data removed]"
          },
          "metadata": {}
        }
      ],
      "source": [
        "# Check the distribution of the target variable 'isFraud'\n",
        "fraud_counts = data['isFraud'].value_counts()\n",
        "print(fraud_counts)\n",
        "\n",
        "# Visualize the imbalance\n",
        "plt.figure(figsize=(8, 6))\n",
        "sns.barplot(x=fraud_counts.index, y=fraud_counts.values)\n",
        "plt.title('Distribution of Fraudulent vs. Non-Fraudulent Transactions')\n",
        "plt.ylabel('Number of Transactions')\n",
        "plt.xticks([0, 1], ['Not Fraud', 'Fraud'])\n",
        "plt.savefig('fraud_distribution.png')\n",
        "plt.show()\n"
      ]
    },
    {
      "cell_type": "markdown",
      "source": [
        "### Insight 1: Extreme Class Imbalance\n",
        "The dataset is **highly imbalanced**. We have over 6.3 million legitimate transactions and only about 8,200 fraudulent ones (roughly 0.12%).\n",
        "\n",
        "This is a critical finding. Standard accuracy will be a misleading metric because a model that always predicts \"Not Fraud\" would be 99.8% accurate but completely useless. We must focus on metrics like **Recall** and **Precision**."
      ],
      "metadata": {
        "id": "yB32aLoE_OTY"
      },
      "id": "yB32aLoE_OTY"
    },
    {
      "cell_type": "code",
      "execution_count": null,
      "id": "xoKVq7vljeMo",
      "metadata": {
        "colab": {
          "base_uri": "https://localhost:8080/",
          "height": 703
        },
        "id": "xoKVq7vljeMo",
        "outputId": "6a5b513d-7dad-4ac9-d920-308baabba954"
      },
      "outputs": [
        {
          "output_type": "stream",
          "name": "stdout",
          "text": [
            "Fraud count by transaction type:\n",
            "type\n",
            "CASH_IN        0\n",
            "CASH_OUT    4116\n",
            "DEBIT          0\n",
            "PAYMENT        0\n",
            "TRANSFER    4097\n",
            "Name: isFraud, dtype: int64\n"
          ]
        },
        {
          "output_type": "display_data",
          "data": {
            "text/plain": [
              "<Figure size 1000x600 with 1 Axes>"
            ],
            "image/png": "[encoded data removed]"
          },
          "metadata": {}
        }
      ],
      "source": [
        "# Let's see which transaction types are fraudulent\n",
        "print(\"Fraud count by transaction type:\")\n",
        "print(data.groupby('type')['isFraud'].sum())\n",
        "\n",
        "# This is a huge insight! Let's visualize it.\n",
        "fraud_by_type = data.groupby('type')['isFraud'].sum()\n",
        "plt.figure(figsize=(10, 6))\n",
        "sns.barplot(x=fraud_by_type.index, y=fraud_by_type.values, hue=fraud_by_type.index, palette='plasma', legend=False)\n",
        "plt.title('Total Fraudulent Transactions by Type')\n",
        "plt.ylabel('Number of Fraudulent Transactions')\n",
        "plt.savefig('fraud_by_type.png')\n",
        "plt.show()\n"
      ]
    },
    {
      "cell_type": "markdown",
      "id": "RkfurKujkV5b",
      "metadata": {
        "id": "RkfurKujkV5b"
      },
      "source": [
        "### Insight 2: Fraud Occurs Only in 'TRANSFER' and 'CASH_OUT'\n",
        "This is a game-changing discovery! **Fraudulent activity exclusively happens in `TRANSFER` and `CASH_OUT` transactions.** All `CASH_IN`, `DEBIT`, and `PAYMENT` transactions are legitimate.\n",
        "\n",
        "This allows us to simplify our problem significantly and informs our feature selection."
      ]
    },
    {
      "cell_type": "markdown",
      "id": "0tB5lBTDkyYz",
      "metadata": {
        "id": "0tB5lBTDkyYz"
      },
      "source": [
        "## 4. Feature Selection and Model Preparation\n",
        "\n",
        "Based on our EDA, I will select the most relevant features for our model.\n",
        "\n",
        "* **Features to use:** I'll use the numerical columns that describe the transaction's financial state: `step`, `amount`, `oldbalanceOrg`, `newbalanceOrig`, `oldbalanceDest`, and `newbalanceDest`. These directly relate to the movement of money.\n",
        "* **Features to exclude:**\n",
        "    * `nameOrig`, `nameDest`: These are unique identifiers and don't provide a generalizable pattern for a model.\n",
        "    * `type`: Since fraud only occurs in two types, encoding this feature for a model trained on all data might add noise. The most important information from this column has already been extracted during EDA.\n",
        "    * `isFlaggedFraud`: This is a rule-based flag set by the system. While it could be a feature, let's build a model independent of it first to see if machine learning can find more complex patterns.\n",
        "\n",
        "I will then split the data into a training set (80%) and a testing set (20%). It's crucial to use `stratify=y` to ensure that the small percentage of fraud cases is distributed proportionally in both sets."
      ]
    },
    {
      "cell_type": "code",
      "execution_count": 3,
      "id": "cd452fa4-bd82-4a91-bea6-2136878b36fb",
      "metadata": {
        "id": "cd452fa4-bd82-4a91-bea6-2136878b36fb"
      },
      "outputs": [],
      "source": [
        "y=data['isFraud']\n",
        "x=data[['step','amount','oldbalanceOrg','newbalanceOrig',\t'oldbalanceDest','newbalanceDest']]"
      ]
    },
    {
      "cell_type": "code",
      "execution_count": 4,
      "id": "d5cd4621-a17e-4431-98fb-44197c9f5ed1",
      "metadata": {
        "id": "d5cd4621-a17e-4431-98fb-44197c9f5ed1"
      },
      "outputs": [],
      "source": [
        "#splitting the data\n",
        "x_train,x_test,y_train,y_test=train_test_split(x,y,test_size=0.2,random_state=1,stratify=y)"
      ]
    },
    {
      "cell_type": "markdown",
      "id": "yQkXJl3DlNDx",
      "metadata": {
        "id": "yQkXJl3DlNDx"
      },
      "source": [
        "## 5. Model Building and Training\n",
        "\n",
        "1. First, I've chosen a **Random Forest Classifier**. It's a powerful and versatile model that works well with tabular data and is less prone to overfitting than a single decision tree. I'll use a standard set of parameters to establish a baseline performance."
      ]
    },
    {
      "cell_type": "code",
      "execution_count": 8,
      "id": "b8737308-0949-4df8-a629-2d024b9829d5",
      "metadata": {
        "id": "b8737308-0949-4df8-a629-2d024b9829d5"
      },
      "outputs": [],
      "source": [
        "#training the model\n",
        "model1=RandomForestClassifier(random_state=2,max_depth=None,n_estimators=30)\n",
        "model1.fit(x_train,y_train)\n",
        "y_pred=model1.predict(x_test)\n",
        "accuracy=metric.accuracy_score(y_test,y_pred)"
      ]
    },
    {
      "cell_type": "markdown",
      "source": [
        "2. Now Iam training new model **XGBClassifier**(Extreme Gradient Boosting classification) uses a highly efficient form of gradient descent to build an ensemble of decision trees sequentially."
      ],
      "metadata": {
        "id": "X2LQFlu7IYoo"
      },
      "id": "X2LQFlu7IYoo"
    },
    {
      "cell_type": "code",
      "source": [
        "xbg_model=XGBClassifier(\n",
        "    n_estimators=100,\n",
        "    learning_rate=0.1,\n",
        "    max_depth=None,\n",
        "    random_state=42,\n",
        "    n_jobs=-1\n",
        ")\n",
        "xbg_model.fit(x_train,y_train)\n",
        "xgb_pred=xbg_model.predict(x_test)\n",
        "xgb_accuracy=metric.accuracy_score(y_test,xgb_pred)\n"
      ],
      "metadata": {
        "id": "Pgs1C2nCIXUP"
      },
      "id": "Pgs1C2nCIXUP",
      "execution_count": 22,
      "outputs": []
    },
    {
      "cell_type": "markdown",
      "id": "CoNmq70Ml9dK",
      "metadata": {
        "id": "CoNmq70Ml9dK"
      },
      "source": [
        "## 6. Model Evaluation\n",
        "\n",
        "As discussed, accuracy is not a reliable metric here. We must evaluate our model based on its ability to correctly identify fraud without incorrectly flagging too many legitimate transactions.\n",
        "\n",
        "* **Precision:** Of all transactions flagged as fraud, how many were actually fraudulent? (High precision = fewer false alarms).\n",
        "* **Recall (Sensitivity):** Of all actual fraudulent transactions, how many did our model catch? (High recall = fewer missed frauds).\n",
        "* **F1-Score:** The harmonic mean of Precision and Recall, providing a single score that balances both.\n",
        "* **Confusion Matrix:** A table that visualizes the performance, showing True Positives, False Positives, True Negatives, and False Negatives."
      ]
    },
    {
      "cell_type": "markdown",
      "source": [
        "1. Model Evaluation of Random Forest Classifier:"
      ],
      "metadata": {
        "id": "aHlKjbzjY2Jf"
      },
      "id": "aHlKjbzjY2Jf"
    },
    {
      "cell_type": "code",
      "source": [
        "#model evaluation of random forest\n",
        "\n",
        "#precision recal and f1-score of random-forest\n",
        "precision = metric.precision_score(y_test, y_pred)\n",
        "recall = metric.recall_score(y_test, y_pred)\n",
        "f1 = metric.f1_score(y_test, y_pred)\n",
        "\n",
        "print('accuracy: ',accuracy)\n",
        "print(\"Precision:\", precision)\n",
        "print(\"Recall:\", recall)\n",
        "print(\"F1 Score:\", f1)\n",
        "\n",
        "#classifiaction report of random forest\n",
        "report = metric.classification_report(y_test, y_pred)\n",
        "print(report)\n",
        "\n",
        "#confusion matrix of random forest\n",
        "cm=metric.confusion_matrix(y_test,y_pred)\n",
        "disp = metric.ConfusionMatrixDisplay(confusion_matrix=cm, display_labels=['Not Fraud','Fraud'])\n",
        "disp.plot(cmap=\"Blues\", values_format=\"d\", colorbar=True)\n",
        "plt.savefig('confusion_matrix.png')\n",
        "plt.show()"
      ],
      "metadata": {
        "id": "Xd4CHt8aTuiN",
        "colab": {
          "base_uri": "https://localhost:8080/",
          "height": 691
        },
        "outputId": "eb36e756-1ba8-4a66-c87c-2d6db8134cfd"
      },
      "id": "Xd4CHt8aTuiN",
      "execution_count": 11,
      "outputs": [
        {
          "output_type": "stream",
          "name": "stdout",
          "text": [
            "accuracy:  0.9995882199471287\n",
            "Precision: 0.9604938271604938\n",
            "Recall: 0.7102860620815581\n",
            "F1 Score: 0.8166550034989503\n",
            "              precision    recall  f1-score   support\n",
            "\n",
            "           0       1.00      1.00      1.00   1270881\n",
            "           1       0.96      0.71      0.82      1643\n",
            "\n",
            "    accuracy                           1.00   1272524\n",
            "   macro avg       0.98      0.86      0.91   1272524\n",
            "weighted avg       1.00      1.00      1.00   1272524\n",
            "\n"
          ]
        },
        {
          "output_type": "display_data",
          "data": {
            "text/plain": [
              "<Figure size 640x480 with 2 Axes>"
            ],
            "image/png": "[encoded data removed]"
          },
          "metadata": {}
        }
      ]
    },
    {
      "cell_type": "markdown",
      "source": [
        "2. Model Evaluation of XGBClassifier:"
      ],
      "metadata": {
        "id": "vRhD_DTiZB8D"
      },
      "id": "vRhD_DTiZB8D"
    },
    {
      "cell_type": "code",
      "source": [
        "#model evaluation of XGBClassifier\n",
        "\n",
        "\n",
        "#precision recall and f1-score of xgb_classifier\n",
        "precision=metric.precision_score(y_test,xgb_pred)\n",
        "recall=metric.recall_score(y_test,xgb_pred)\n",
        "fr_score=metric.f1_score(y_test,xgb_pred)\n",
        "\n",
        "print('accuracy: ',xgb_accuracy)\n",
        "print('precision: ',precision)\n",
        "print('recall: ',recall)\n",
        "print('f1-score: ',fr_score)\n",
        "\n",
        "#classification report of XGBClassifier\n",
        "xgb_report=metric.classification_report(y_test,xgb_pred)\n",
        "print(xgb_report)\n",
        "\n",
        "#confusion matrix of XGBClassifier\n",
        "xgb_cm=metric.confusion_matrix(y_test,xgb_pred)\n",
        "disp=metric.ConfusionMatrixDisplay(confusion_matrix=xgb_cm,display_labels=['Not Fraud','Fraud'])\n",
        "disp.plot(cmap='Greens',values_format='d')\n",
        "plt.savefig('xgb_confusion_matrix.png')\n",
        "plt.show()"
      ],
      "metadata": {
        "id": "aZB3D1bCUPgd",
        "colab": {
          "base_uri": "https://localhost:8080/",
          "height": 691
        },
        "outputId": "9052de9b-660f-429e-877d-c560836b8ec3"
      },
      "id": "aZB3D1bCUPgd",
      "execution_count": 23,
      "outputs": [
        {
          "output_type": "stream",
          "name": "stdout",
          "text": [
            "accuracy:  0.9994884182930931\n",
            "precision:  0.9085667215815486\n",
            "recall:  0.6713329275715155\n",
            "f1-score:  0.7721386069303465\n",
            "              precision    recall  f1-score   support\n",
            "\n",
            "           0       1.00      1.00      1.00   1270881\n",
            "           1       0.91      0.67      0.77      1643\n",
            "\n",
            "    accuracy                           1.00   1272524\n",
            "   macro avg       0.95      0.84      0.89   1272524\n",
            "weighted avg       1.00      1.00      1.00   1272524\n",
            "\n"
          ]
        },
        {
          "output_type": "display_data",
          "data": {
            "text/plain": [
              "<Figure size 640x480 with 2 Axes>"
            ],
            "image/png": "[encoded data removed]"
          },
          "metadata": {}
        }
      ]
    },
    {
      "cell_type": "markdown",
      "source": [
        "###Insights-3:\n",
        "1. since the **RandomForestClassifier** outperforms the best with **71** than the **XGBClassifier** with **675**\n",
        "2. Therefore, picking the **RandomForestClassifier** is best."
      ],
      "metadata": {
        "id": "6RVpexQgizSU"
      },
      "id": "6RVpexQgizSU"
    },
    {
      "cell_type": "markdown",
      "id": "y5-NhsdSmua-",
      "metadata": {
        "id": "y5-NhsdSmua-"
      },
      "source": [
        "### Interpreting the Results\n",
        "\n",
        "* Our model achieved a **Recall of 0.71**, meaning it successfully **caught 71% of all fraudulent transactions** in the test set. This is a strong result, as catching fraud is our primary goal.\n",
        "* The **Precision is 0.95**, which is excellent. It means that when our model flags a transaction as fraud, it is correct 94% of the time. This minimizes the number of legitimate customers who might be inconvenienced by a false alarm.\n",
        "* The **Confusion Matrix** shows us that:\n",
        "    * We correctly identified **1173** fraudulent transactions (True Positives).\n",
        "    * We missed **470** fraudulent transactions (False Negatives). This is what our 71% recall reflects.\n",
        "    * We only incorrectly flagged **55** legitimate transactions as fraud (False Positives).\n",
        "\n",
        "Overall, the model shows a strong ability to identify fraud with a very low rate of false alarms."
      ]
    },
    {
      "cell_type": "markdown",
      "id": "eKK6P1MMniT4",
      "metadata": {
        "id": "eKK6P1MMniT4"
      },
      "source": [
        "##7 Save the trained model for future use"
      ]
    },
    {
      "cell_type": "code",
      "execution_count": 24,
      "id": "zUjw2MnXnN2W",
      "metadata": {
        "id": "zUjw2MnXnN2W",
        "colab": {
          "base_uri": "https://localhost:8080/"
        },
        "outputId": "31aedb99-c639-4b57-cf4b-df8ef8e68422"
      },
      "outputs": [
        {
          "output_type": "execute_result",
          "data": {
            "text/plain": [
              "['fraud_detection_model.joblib']"
            ]
          },
          "metadata": {},
          "execution_count": 24
        }
      ],
      "source": [
        "# Save the trained model for future use\n",
        "joblib.dump(model1, 'fraud_detection_model.joblib')"
      ]
    },
    {
      "cell_type": "markdown",
      "id": "BtlEiWZjnEdq",
      "metadata": {
        "id": "BtlEiWZjnEdq"
      },
      "source": [
        "## 8. Conclusion & Next Steps\n",
        "\n",
        "In this project, I successfully built a fraud detection model that can identify 73% of fraudulent transactions with 94% precision. The key to this success was a thorough exploratory analysis that revealed fraud is confined to `TRANSFER` and `CASH_OUT` transactions.\n",
        "\n",
        "This model provides a strong foundation for a real-world fraud detection system that can save the company millions and protect its customers.\n",
        "\n",
        "### Potential Next Steps:\n",
        "1.  **Handling Imbalance:** To improve recall further, we could use advanced techniques like SMOTE (Synthetic Minority Over-sampling TEchnique) to create more \"fake\" fraud examples for the model to learn from.\n",
        "2.  **Hyperparameter Tuning:** We could use `GridSearchCV` or `RandomizedSearchCV` to find the absolute best combination of parameters for the Random Forest model, potentially boosting performance.\n",
        "3.  **Try Other Models:** Testing more advanced models like XGBoost or LightGBM, which are often top performers on tabular data, could yield even better results."
      ]
    },
    {
      "cell_type": "markdown",
      "id": "5LsPo6NTn-KC",
      "metadata": {
        "id": "5LsPo6NTn-KC"
      },
      "source": [
        "##9 Strategy to finetune the model\n",
        " 1. we can finetune the model in both either two strategy's using GridSearchCV and KFold.\n",
        " 2. after **finetuning** the model, select the best parameters to train the model with those **hyperparameters**.\n",
        " 3. but i think the kfold strategy is good to finetune the model, sinceK-Fold cross-validation iteratively splits the dataset into k folds, using one fold for testing and the remaining folds for training, so that each data point is used for both training and testing across iterations, and in our data there is only less number of fradulent transactions in our dataset, if we consider the multiple models like XGBoost,LightGBM,...etc.\n",
        "\n",
        " 4. here i have shown the gridsearchcv method for model selection."
      ]
    },
    {
      "cell_type": "code",
      "execution_count": null,
      "id": "a2201501-05c6-4ecb-acc5-aae1f93a0b4e",
      "metadata": {
        "id": "a2201501-05c6-4ecb-acc5-aae1f93a0b4e"
      },
      "outputs": [],
      "source": [
        "#finetuning the model\n",
        "model2=RandomForestClassifier(random_state=42)\n",
        "#implementing the GridSearchCV to find the best parameters for the model\n",
        "\n",
        "param_grid={\n",
        "    'n_estimators':[100,120,150],\n",
        "    'max_depth':[None,10,20],\n",
        "}\n",
        "grid_search=GridSearchCV(estimator=model2,param_grid=param_grid,cv=5,scoring='precision',n_jobs=-1)\n",
        "grid_search.fit(x_train,y_train)\n"
      ]
    },
    {
      "cell_type": "code",
      "execution_count": null,
      "id": "dd61fbb9-5fc6-465a-8c3c-b1054d238e8d",
      "metadata": {
        "id": "dd61fbb9-5fc6-465a-8c3c-b1054d238e8d"
      },
      "outputs": [],
      "source": [
        "print(\"Best Hyperparameters:\", grid_search.best_params_)\n",
        "print(\"Best CV Accuracy:\", grid_search.best_score_)"
      ]
    },
    {
      "cell_type": "code",
      "execution_count": null,
      "id": "IBQRnbGuexh1",
      "metadata": {
        "id": "IBQRnbGuexh1"
      },
      "outputs": [],
      "source": [
        "# Get best parameters\n",
        "best_params = grid_search.best_params_\n",
        "\n",
        "# Create a new model using best hyperparameters\n",
        "best_model = RandomForestClassifier(**best_params, random_state=42) ## here **best_params  in the sense we are passing dictionary as argument\n",
        "\n",
        "# Train on full dataset\n",
        "best_model.fit(x_train, y_train)\n",
        "\n",
        "# Evaluate on test set\n",
        "b_y_pred = best_model.predict(x_test)\n",
        "best_accuracy = metric.accuracy_score(y_test, b_y_pred)\n",
        "\n"
      ]
    },
    {
      "cell_type": "code",
      "source": [
        "#model evaluation of random forest\n",
        "\n",
        "#precision recal and f1-score of random-forest\n",
        "precision = metric.precision_score(y_test, b_y_pred)\n",
        "recall = metric.recall_score(y_test, b_y_pred)\n",
        "f1 = metric.f1_score(y_test, b_y_pred)\n",
        "\n",
        "print('accuracy: ',bext_accuracy)\n",
        "print(\"Precision:\", precision)\n",
        "print(\"Recall:\", recall)\n",
        "print(\"F1 Score:\", f1)\n",
        "\n",
        "#classifiaction report of random forest\n",
        "report = metric.classification_report(y_test, b_y_pred)\n",
        "print(report)\n",
        "\n",
        "#confusion matrix of random forest\n",
        "cm=metric.confusion_matrix(y_test,b_y_pred)\n",
        "disp = metric.ConfusionMatrixDisplay(confusion_matrix=cm, display_labels=['Not Fraud','Fraud'])\n",
        "disp.plot(cmap=\"Blues\", values_format=\"d\", colorbar=True)\n",
        "plt.savefig('confusion_matrix.png')\n",
        "plt.show()"
      ],
      "metadata": {
        "id": "P1IhPEOPkI0C"
      },
      "id": "P1IhPEOPkI0C",
      "execution_count": null,
      "outputs": []
    }
  ],
  "metadata": {
    "colab": {
      "collapsed_sections": [
        "CMvK6GZeg_xd",
        "haucYbbvhpx1"
      ],
      "provenance": [],
      "include_colab_link": true
    },
    "kernelspec": {
      "display_name": "Python 3 (ipykernel)",
      "language": "python",
      "name": "python3"
    },
    "language_info": {
      "codemirror_mode": {
        "name": "ipython",
        "version": 3
      },
      "file_extension": ".py",
      "mimetype": "text/x-python",
      "name": "python",
      "nbconvert_exporter": "python",
      "pygments_lexer": "ipython3",
      "version": "3.13.7"
    }
  },
  "nbformat": 4,
  "nbformat_minor": 5
}